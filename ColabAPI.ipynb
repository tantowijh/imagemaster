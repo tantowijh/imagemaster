{
  "cells": [
    {
      "cell_type": "code",
      "execution_count": null,
      "metadata": {
        "cellView": "form",
        "id": "juqrpf_yttjb"
      },
      "outputs": [],
      "source": [
        "#@title __Install all the Requirements__\n",
        "!pip install diffusers transformers accelerate scipy safetensors &> /dev/null\n",
        "\n",
        "!pip install git+https://github.com/sberbank-ai/Real-ESRGAN.git &> /dev/null\n",
        "!pip install py-real-esrgan &> /dev/null\n",
        "\n",
        "!pip install pyngrok &> /dev/null"
      ]
    },
    {
      "cell_type": "code",
      "execution_count": null,
      "metadata": {
        "cellView": "form",
        "id": "y8hSr953aF0D"
      },
      "outputs": [],
      "source": [
        "#@title __Import Libraries and Load Models__\n",
        "import requests\n",
        "from PIL import Image\n",
        "from io import BytesIO\n",
        "from diffusers import AutoPipelineForInpainting\n",
        "from py_real_esrgan.model import RealESRGAN\n",
        "import torch\n",
        "\n",
        "# Load the Real-ESRGAN model (Upscale AI)\n",
        "device = torch.device('cuda' if torch.cuda.is_available() else 'cpu')\n",
        "model = RealESRGAN(device, scale=4)\n",
        "model.load_weights('weights/RealESRGAN_x4.pth', download=True)\n",
        "\n",
        "# Load Inpainting AI (Stable Diffusion)\n",
        "ai_inpaint = AutoPipelineForInpainting.from_pretrained(\"diffusers/stable-diffusion-xl-1.0-inpainting-0.1\", torch_dtype=torch.float16, variant=\"fp16\").to(\"cuda\")"
      ]
    },
    {
      "cell_type": "code",
      "execution_count": null,
      "metadata": {
        "cellView": "form",
        "colab": {
          "base_uri": "https://localhost:8080/",
          "height": 35
        },
        "id": "I5h_gzo7J4CN",
        "outputId": "5258ba70-5b6a-4c97-b972-738e433dc4a0"
      },
      "outputs": [
        {
          "data": {
            "application/vnd.google.colaboratory.intrinsic+json": {
              "type": "string"
            },
            "text/plain": [
              "'https://4baa-104-198-106-57.ngrok-free.app'"
            ]
          },
          "execution_count": 12,
          "metadata": {},
          "output_type": "execute_result"
        }
      ],
      "source": [
        "#@title __Setup Ngrok API URL__\n",
        "#@markdown Provide the _auth_token_ with your ngrok token, run and copy it then put in _.env_ on the project.\n",
        "\n",
        "from pyngrok import ngrok\n",
        "\n",
        "# Terminate open tunnel if exist\n",
        "ngrok.kill()\n",
        "\n",
        "port = 5000\n",
        "\n",
        "auth_token = \"\" #@param {type:\"string\"}\n",
        "ngrok.set_auth_token(auth_token)\n",
        "\n",
        "ngrok.connect(port).public_url"
      ]
    },
    {
      "cell_type": "code",
      "execution_count": null,
      "metadata": {
        "cellView": "form",
        "id": "BWJyKPxHP6Sj"
      },
      "outputs": [],
      "source": [
        "#@title __Run the Flask App__\n",
        "#@markdown Make sure to re-run the Ngrok Setup first and update _.env_ if you restart this cell.\n",
        "\n",
        "from flask import Flask, request, send_file\n",
        "import numpy as np\n",
        "\n",
        "app = Flask(__name__)\n",
        "\n",
        "@app.route('/enhance', methods=['POST'])\n",
        "def enhance():\n",
        "    # Get the image from the request\n",
        "    image_data = request.files['image'].read()\n",
        "\n",
        "    # Load the image from the request\n",
        "    image = Image.open(BytesIO(image_data)).convert('RGB')\n",
        "\n",
        "    # Perform the upscaling using Real-ESRGAN\n",
        "    sr_image = model.predict(image)\n",
        "\n",
        "    # Save the upscaled image to a BytesIO buffer\n",
        "    buffered = BytesIO()\n",
        "    sr_image.save(buffered, format=\"PNG\")\n",
        "    buffered.seek(0)\n",
        "\n",
        "    return send_file(buffered, mimetype='image/png', as_attachment=True, download_name='enhanced_image.png')\n",
        "\n",
        "@app.route('/restore', methods=['POST'])\n",
        "def restore():\n",
        "    # Get the image, mask, and prompt from the request\n",
        "    image_data = request.files['image'].read()\n",
        "    mask_data = request.files['mask'].read()\n",
        "    prompt = request.form['prompt']\n",
        "    generator = torch.Generator(device=\"cuda\").manual_seed(0)\n",
        "\n",
        "    # Load the image and mask from the request\n",
        "    image = Image.open(BytesIO(image_data)).convert(\"RGB\")\n",
        "    mask = Image.open(BytesIO(mask_data)).convert(\"L\")  # Convert mask to grayscale\n",
        "\n",
        "    # Perform the inpainting using the Stable Diffusion model\n",
        "    restored_image = ai_inpaint(\n",
        "      prompt=prompt,\n",
        "      image=image,\n",
        "      mask_image=mask,\n",
        "      guidance_scale=8.0,\n",
        "      num_inference_steps=20,  # steps between 15 and 30 work well for us\n",
        "      strength=0.99,  # make sure to use `strength` below 1.0\n",
        "      generator=generator,\n",
        "    ).images[0]\n",
        "\n",
        "    # Save the restored image to a BytesIO buffer\n",
        "    buffered = BytesIO()\n",
        "    restored_image.save(buffered, format=\"PNG\")\n",
        "    buffered.seek(0)\n",
        "\n",
        "    return send_file(buffered, mimetype='image/png', as_attachment=True, download_name='restored_image.png')\n",
        "\n",
        "\n",
        "if __name__ == '__main__':\n",
        "    app.run()"
      ]
    }
  ],
  "metadata": {
    "accelerator": "GPU",
    "colab": {
      "gpuType": "T4",
      "provenance": []
    },
    "kernelspec": {
      "display_name": "Python 3",
      "name": "python3"
    },
    "language_info": {
      "name": "python"
    }
  },
  "nbformat": 4,
  "nbformat_minor": 0
}
