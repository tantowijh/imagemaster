{
  "nbformat": 4,
  "nbformat_minor": 0,
  "metadata": {
    "colab": {
      "provenance": [],
      "gpuType": "T4",
      "include_colab_link": true
    },
    "kernelspec": {
      "name": "python3",
      "display_name": "Python 3"
    },
    "language_info": {
      "name": "python"
    },
    "accelerator": "GPU"
  },
  "cells": [
    {
      "cell_type": "markdown",
      "metadata": {
        "id": "view-in-github",
        "colab_type": "text"
      },
      "source": [
        "<a href=\"https://colab.research.google.com/github/tantowijh/imagerestoration/blob/image-enhancement/GoogleColabAPI.ipynb\" target=\"_parent\"><img src=\"https://colab.research.google.com/assets/colab-badge.svg\" alt=\"Open In Colab\"/></a>"
      ]
    },
    {
      "cell_type": "code",
      "source": [
        "#@title __Install all the Requirements__\n",
        "!pip install diffusers transformers accelerate scipy safetensors &> /dev/null\n",
        "\n",
        "!pip install git+https://github.com/sberbank-ai/Real-ESRGAN.git &> /dev/null\n",
        "!pip install py-real-esrgan &> /dev/null\n",
        "\n",
        "!pip install pyngrok &> /dev/null"
      ],
      "metadata": {
        "id": "juqrpf_yttjb",
        "cellView": "form"
      },
      "execution_count": null,
      "outputs": []
    },
    {
      "cell_type": "code",
      "source": [
        "#@title __Import Libraries and Load Models__\n",
        "import requests\n",
        "from PIL import Image\n",
        "from io import BytesIO\n",
        "from diffusers import AutoPipelineForInpainting\n",
        "import torch\n",
        "from RealESRGAN import RealESRGAN\n",
        "\n",
        "# Load the Real-ESRGAN model\n",
        "device = torch.device('cuda' if torch.cuda.is_available() else 'cpu')\n",
        "enhance_pipe = RealESRGAN(device, scale=4)\n",
        "enhance_pipe.load_weights('weights/RealESRGAN_x4.pth', download=True)\n",
        "\n",
        "# Load Inpainting Model\n",
        "inpaint_model = \"diffusers/stable-diffusion-xl-1.0-inpainting-0.1\"\n",
        "inpaint_pipe = AutoPipelineForInpainting.from_pretrained(inpaint_model, torch_dtype=torch.float16, variant=\"fp16\")\n",
        "inpaint_pipe = inpaint_pipe.to(\"cuda\")"
      ],
      "metadata": {
        "id": "y8hSr953aF0D",
        "cellView": "form"
      },
      "execution_count": null,
      "outputs": []
    },
    {
      "cell_type": "code",
      "source": [
        "#@title __Run the Flask App__\n",
        "#@markdown Make sure to re-run the Ngrok Setup first and update _.env_ if you restart this cell.\n",
        "\n",
        "from flask import Flask, request, send_file, jsonify\n",
        "import numpy as np\n",
        "\n",
        "app = Flask(__name__)\n",
        "\n",
        "@app.route('/', methods=['GET'])\n",
        "def home():\n",
        "    return 'Hello, World!'\n",
        "\n",
        "@app.route('/enhance', methods=['POST'])\n",
        "def enhance():\n",
        "  try:\n",
        "    # Get the image from the request\n",
        "    image_data = request.files['image'].read()\n",
        "\n",
        "    # Load the image from the request\n",
        "    image = Image.open(BytesIO(image_data)).convert('RGB')\n",
        "\n",
        "    # Perform the upscaling using Real-ESRGAN\n",
        "    sr_image = enhance_pipe.predict(image)\n",
        "\n",
        "    # Save the upscaled image to a BytesIO buffer\n",
        "    buffered = BytesIO()\n",
        "    sr_image.save(buffered, format=\"PNG\")\n",
        "    buffered.seek(0)\n",
        "\n",
        "    return send_file(buffered, mimetype='image/png', as_attachment=True, download_name='enhanced_image.png')\n",
        "\n",
        "  except Exception as e:\n",
        "    return jsonify({'error': str(e)}), 500\n",
        "\n",
        "@app.route('/restore', methods=['POST'])\n",
        "def restore():\n",
        "  try:\n",
        "    # Get the image, mask, and prompt from the request\n",
        "    image_data = request.files['image'].read()\n",
        "    mask_data = request.files['mask'].read()\n",
        "    prompt = request.form['prompt']\n",
        "\n",
        "    # Get optional parameters from the request\n",
        "    guidance_scale = float(request.form.get('guidance_scale', 8.0))\n",
        "    num_inference_steps = int(request.form.get('num_inference_steps', 20))\n",
        "    strength = float(request.form.get('strength', 0.99))\n",
        "    seed = int(request.form.get('seed', 0))\n",
        "\n",
        "    generator = torch.Generator(device=\"cuda\").manual_seed(seed)\n",
        "\n",
        "    # Load the image and mask from the request\n",
        "    image = Image.open(BytesIO(image_data)).convert(\"RGB\")\n",
        "    mask = Image.open(BytesIO(mask_data)).convert(\"L\")  # Convert mask to grayscale\n",
        "\n",
        "    # Perform the inpainting using the Stable Diffusion model\n",
        "    restored_image = inpaint_pipe(\n",
        "        prompt=prompt,\n",
        "        image=image,\n",
        "        mask_image=mask,\n",
        "        guidance_scale=guidance_scale,\n",
        "        num_inference_steps=num_inference_steps,\n",
        "        strength=strength,\n",
        "        generator=generator,\n",
        "    ).images[0]\n",
        "\n",
        "    # Ensure the restored image is the same size as the original\n",
        "    restored_image = restored_image.resize(image.size, Image.LANCZOS)\n",
        "\n",
        "    # Save the restored image to a BytesIO buffer\n",
        "    buffered = BytesIO()\n",
        "    restored_image.save(buffered, format=\"PNG\")\n",
        "    buffered.seek(0)\n",
        "\n",
        "    return send_file(buffered, mimetype='image/png', as_attachment=True, download_name='restored_image.png')\n",
        "\n",
        "  except Exception as e:\n",
        "    return jsonify({'error': str(e)}), 500\n",
        "\n",
        "\n",
        "def run_app():\n",
        "  app.run()\n",
        "\n",
        "# Start the Flask app in a separate thread\n",
        "import threading\n",
        "import os\n",
        "\n",
        "flask_thread = threading.Thread(target=run_app)\n",
        "flask_thread.start()\n",
        "\n",
        "!ssh -o StrictHostKeyChecking=no -R 80:localhost:5000 serveo.net\n",
        "\n"
      ],
      "metadata": {
        "id": "BWJyKPxHP6Sj",
        "cellView": "form"
      },
      "execution_count": null,
      "outputs": []
    }
  ]
}